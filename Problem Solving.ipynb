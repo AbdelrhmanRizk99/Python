{
 "cells": [
  {
   "cell_type": "markdown",
   "id": "63dfd400-706f-4522-ab67-0fbd04ebfc01",
   "metadata": {},
   "source": [
    "## Problem Solving"
   ]
  },
  {
   "cell_type": "code",
   "execution_count": 1,
   "id": "c5007d2c-7568-446d-8037-f44e9c2d1bac",
   "metadata": {},
   "outputs": [
    {
     "name": "stdout",
     "output_type": "stream",
     "text": [
      "asseJ si emaN yM\n"
     ]
    }
   ],
   "source": [
    "str = 'My Name is Jessa'\n",
    "print(str[::-1])\n"
   ]
  },
  {
   "cell_type": "code",
   "execution_count": 6,
   "id": "96a64932-16de-46da-923f-cd7bd170a70d",
   "metadata": {},
   "outputs": [
    {
     "name": "stdout",
     "output_type": "stream",
     "text": [
      "Current Number 1 Previous Number 0 Sum: 1\n",
      "Current Number 2 Previous Number 1 Sum: 3\n",
      "Current Number 3 Previous Number 2 Sum: 5\n",
      "Current Number 4 Previous Number 3 Sum: 7\n",
      "Current Number 5 Previous Number 4 Sum: 9\n",
      "Current Number 6 Previous Number 5 Sum: 11\n",
      "Current Number 7 Previous Number 6 Sum: 13\n",
      "Current Number 8 Previous Number 7 Sum: 15\n",
      "Current Number 9 Previous Number 8 Sum: 17\n",
      "Current Number 10 Previous Number 9 Sum: 19\n"
     ]
    }
   ],
   "source": [
    "for n in range(1,11):\n",
    "    print(f\"Current Number {n} Previous Number {n-1} Sum: {n + (n-1)}\")\n"
   ]
  },
  {
   "cell_type": "code",
   "execution_count": 7,
   "id": "0a5f8bac-40ff-4694-8a29-4bc26968588b",
   "metadata": {},
   "outputs": [
    {
     "name": "stdin",
     "output_type": "stream",
     "text": [
      "Enter text:  abdo\n"
     ]
    },
    {
     "name": "stdout",
     "output_type": "stream",
     "text": [
      "a\n",
      "d\n"
     ]
    }
   ],
   "source": [
    "txt = input(\"Enter text: \")\n",
    "for index, char in enumerate(txt):\n",
    "    if index % 2 == 0:\n",
    "        print(char)\n"
   ]
  },
  {
   "cell_type": "code",
   "execution_count": 13,
   "id": "49412a91-392e-432b-b47d-cda23c2a0a40",
   "metadata": {},
   "outputs": [
    {
     "name": "stdout",
     "output_type": "stream",
     "text": [
      "tive\n"
     ]
    }
   ],
   "source": [
    "def remove_chars(txt, n):\n",
    "    if n < len(txt):\n",
    "        return txt[n:]\n",
    "    else:\n",
    "        return \"\"\n",
    "\n",
    "# Example usage:\n",
    "result = remove_chars(\"PYnative\", 4)\n",
    "print(result)\n",
    "\n",
    "              "
   ]
  },
  {
   "cell_type": "code",
   "execution_count": 19,
   "id": "3049f1a8-74ad-4126-87b7-217e1df41804",
   "metadata": {},
   "outputs": [
    {
     "name": "stdout",
     "output_type": "stream",
     "text": [
      "True\n"
     ]
    }
   ],
   "source": [
    "def check_equal(lst):\n",
    "    if lst[0] == lst[-1]:\n",
    "        print(\"True\")\n",
    "    else:\n",
    "        print(\"False\")\n",
    "\n",
    "check_equal([10, 20, 30, 40, 10]) \n"
   ]
  },
  {
   "cell_type": "code",
   "execution_count": 21,
   "id": "b76dd322-1055-491f-b5e3-068e5ffe59dc",
   "metadata": {},
   "outputs": [
    {
     "name": "stdout",
     "output_type": "stream",
     "text": [
      "[10, 20, 90, 0, 5]\n"
     ]
    }
   ],
   "source": [
    "def is_divided_by5(lst):\n",
    "    list_5 = []\n",
    "    for item in lst:\n",
    "        if item % 5 == 0:\n",
    "            list_5.append(item)\n",
    "    return list_5\n",
    "\n",
    "# Example usage:\n",
    "result = is_divided_by5([10, 20, 33, 67, 89, 90, 0, 5])\n",
    "print(result)\n"
   ]
  },
  {
   "cell_type": "code",
   "execution_count": 24,
   "id": "d1f7fa49-2b80-43b2-8434-2484108d786c",
   "metadata": {},
   "outputs": [
    {
     "name": "stdout",
     "output_type": "stream",
     "text": [
      "\n",
      "\n",
      "1 \n",
      "\n",
      "2 2 \n",
      "\n",
      "3 3 3 \n",
      "\n",
      "4 4 4 4 \n",
      "\n",
      "5 5 5 5 5 \n",
      "\n"
     ]
    }
   ],
   "source": [
    "for num in range(6):\n",
    "    for i in range(num):\n",
    "        print (num, end=\" \") #print number\n",
    "    # new line after each row to display the pattern correctly\n",
    "    print(\"\\n\")"
   ]
  },
  {
   "cell_type": "code",
   "execution_count": 29,
   "id": "4478d08f-1954-4cdb-ab1f-04c281e80fee",
   "metadata": {},
   "outputs": [
    {
     "name": "stdout",
     "output_type": "stream",
     "text": [
      "1 2 3 4 5 6 7 8 9 10 \n",
      "\n",
      "11 12 13 14 15 16 17 18 19 20 \n",
      "\n",
      "21 22 23 24 25 26 27 28 29 30 \n",
      "\n",
      "31 32 33 34 35 36 37 38 39 40 \n",
      "\n",
      "41 42 43 44 45 46 47 48 49 50 \n",
      "\n",
      "51 52 53 54 55 56 57 58 59 60 \n",
      "\n",
      "61 62 63 64 65 66 67 68 69 70 \n",
      "\n",
      "71 72 73 74 75 76 77 78 79 80 \n",
      "\n",
      "81 82 83 84 85 86 87 88 89 90 \n",
      "\n",
      "91 92 93 94 95 96 97 98 99 100 \n",
      "\n"
     ]
    }
   ],
   "source": [
    "\n",
    "for num in range(1,101):\n",
    "    print (num, end=\" \")\n",
    "    if num % 10 == 0:\n",
    "        print() # Moves to the next line\n",
    "        \n",
    " \n",
    "        \n",
    "        "
   ]
  },
  {
   "cell_type": "code",
   "execution_count": null,
   "id": "a22529fa-fd5f-407e-af9a-22b4067bdd26",
   "metadata": {},
   "outputs": [],
   "source": []
  }
 ],
 "metadata": {
  "kernelspec": {
   "display_name": "Python 3 (ipykernel)",
   "language": "python",
   "name": "python3"
  },
  "language_info": {
   "codemirror_mode": {
    "name": "ipython",
    "version": 3
   },
   "file_extension": ".py",
   "mimetype": "text/x-python",
   "name": "python",
   "nbconvert_exporter": "python",
   "pygments_lexer": "ipython3",
   "version": "3.9.1"
  }
 },
 "nbformat": 4,
 "nbformat_minor": 5
}
