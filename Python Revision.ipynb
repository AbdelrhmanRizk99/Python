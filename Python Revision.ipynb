{
 "cells": [
  {
   "cell_type": "markdown",
   "id": "5e9b887a-b27f-4305-b08e-9e911b6fdb8f",
   "metadata": {},
   "source": [
    "# Casting"
   ]
  },
  {
   "cell_type": "code",
   "execution_count": 1,
   "id": "9721c9ff-a532-4787-86fe-ade3f76293e3",
   "metadata": {},
   "outputs": [],
   "source": [
    "x = str(3)    # x will be '3'\n",
    "y = int(3)    # y will be 3\n",
    "z = float(3)  # z will be 3.0"
   ]
  },
  {
   "cell_type": "markdown",
   "id": "e7b46f11-7a67-4454-8e57-e533625a5d0c",
   "metadata": {},
   "source": [
    "---"
   ]
  },
  {
   "cell_type": "markdown",
   "id": "597be85e-33a2-44fc-bc8f-dc09eca976d6",
   "metadata": {},
   "source": [
    "## Multi Words Variable Names"
   ]
  },
  {
   "cell_type": "code",
   "execution_count": 3,
   "id": "92d0234a-7428-4f83-8e42-7238c84bb3e9",
   "metadata": {},
   "outputs": [],
   "source": [
    "myVariableName = \"abdoRizk\"     # Camel Case\n",
    "MyVariableName = \"AbdoRizk\"     # Pascal Case\n",
    "my_variable_name = \"abdo_rizk\"   # Snake Case"
   ]
  },
  {
   "cell_type": "markdown",
   "id": "e55ec127-6e19-4896-aa1a-722a4ec87880",
   "metadata": {},
   "source": [
    "---"
   ]
  },
  {
   "cell_type": "markdown",
   "id": "9892ab1c-b8b3-4c0b-9ec6-72d9d755bfcf",
   "metadata": {},
   "source": [
    "## Strings are Arrays"
   ]
  },
  {
   "cell_type": "code",
   "execution_count": null,
   "id": "2acdda34-b8a6-473b-a6be-c89e401ec254",
   "metadata": {},
   "outputs": [],
   "source": [
    "a = \"Hello, World!\"\n",
    "print(a[1])    # 'e'  python is zero index\n",
    "print(a[2:4])  # 'll' 2 --> inclusive //  4 --> exclusive\n",
    "------------------------------------\n",
    "for x in a:    # Looping Through a String\n",
    "  print(x)\n",
    "------------------------------------\n",
    "txt = \"The best things in life are free!\" # Check String\n",
    "print(\"free\" in txt) # (not in t)\n",
    "------------------------------------\n",
    "a = \" Hello, World! \"\n",
    "print(a.strip()) # Remove Whitespace"
   ]
  },
  {
   "cell_type": "markdown",
   "id": "d43ab587-59fa-4e4f-a5be-02749e4da67a",
   "metadata": {},
   "source": [
    "---"
   ]
  },
  {
   "cell_type": "markdown",
   "id": "8b82f0c2-8783-4360-b7ec-0a18503a7c83",
   "metadata": {},
   "source": [
    "## F-Strings"
   ]
  },
  {
   "cell_type": "code",
   "execution_count": null,
   "id": "8a5669ca-d249-4860-be8f-572b7c585e29",
   "metadata": {},
   "outputs": [],
   "source": [
    "price = 59\n",
    "txt = f\"The price is {price:.2f} dollars\"   # Display the price with 2 decimals:\n",
    "print(txt)\n",
    "-------------------------------\n",
    "txt = f\"The price is {20 * 59} dollars\"  # Perform a math operation\n",
    "print(txt)"
   ]
  },
  {
   "cell_type": "markdown",
   "id": "da1ef354-548a-4f55-9baf-2c73d9e1f311",
   "metadata": {},
   "source": [
    "# Collections"
   ]
  },
  {
   "cell_type": "code",
   "execution_count": null,
   "id": "a363f0b9-9841-4a6f-8a09-fa276ef349ba",
   "metadata": {},
   "outputs": [],
   "source": [
    "# List         ordered    changeable                     duplicate.\n",
    "# Tuple        ordered    unchangeable                   duplicate.\n",
    "# Set          unordered  unchangeable*, and unindexed   No duplicate.\n",
    "# Dictionary   ordered    changeable                     No duplicate."
   ]
  },
  {
   "cell_type": "markdown",
   "id": "4e19ac53-0f2c-4976-821d-1a7c169ee388",
   "metadata": {},
   "source": [
    "# List"
   ]
  },
  {
   "cell_type": "code",
   "execution_count": null,
   "id": "1e6b4ccf-f90f-4c28-a9e5-7e3ed274e8d6",
   "metadata": {},
   "outputs": [],
   "source": [
    "list1 = [\"abc\", 34, True, 40, \"male\"] # list can contain different data types\n",
    "-------------------------------\n",
    "thislist2 = [\"apple\", \"banana\", \"cherry\"]\n",
    "thislist2.insert(2, \"watermelon\")  # insert\n",
    "print(thislist2)\n",
    "--------------------------------\n",
    "thislist3 = [\"apple\", \"banana\", \"cherry\"]\n",
    "thislist3.append(\"orange\")  # append add an item to the end of the list\n",
    "print(thislist3)\n",
    "----------------------------------\n",
    "thislist4 = [\"apple\", \"banana\", \"cherry\"]\n",
    "tropical = [\"mango\", \"pineapple\", \"papaya\"]\n",
    "thislist4.extend(tropical) # Extend append elements from another list to the current list\n",
    "print(thislist4)"
   ]
  },
  {
   "cell_type": "code",
   "execution_count": null,
   "id": "afca6844-4d1f-406a-9e6a-bffa8f779c7a",
   "metadata": {},
   "outputs": [],
   "source": [
    "#Remove items\n",
    "thislist5 = [\"apple\", \"banana\", \"cherry\", \"banana\", \"kiwi\"] \n",
    "thislist5.remove(\"banana\") # remove() method removes the first occurrence\n",
    "-----------------------------------------\n",
    "thislist6 = [\"apple\", \"banana\", \"cherry\"]\n",
    "thislist6.pop(1) # pop() method removes the specified index\n",
    "thislist6.pop() #removes the last item.\n",
    "-----------------------------------------\n",
    "thislist7 = [\"apple\", \"banana\", \"cherry\"]\n",
    "del thislist7[0] # Del removes the specified index\n",
    "del thislist7  # Delete the entire list\n",
    "-----------------------------------------\n",
    "thislist8 = [\"apple\", \"banana\", \"cherry\"] # Clear\n",
    "thislist8.clear() # The list still remains, but it has no content."
   ]
  },
  {
   "cell_type": "code",
   "execution_count": null,
   "id": "3cfcd14a-837e-43e3-b82c-5185e198eb0b",
   "metadata": {},
   "outputs": [],
   "source": [
    "# list comprehension \n",
    "fruits = [\"apple\", \"banana\", \"cherry\", \"kiwi\", \"mango\"]\n",
    "newlis9 = [x for x in fruits if \"a\" in x]  # [expression for item in iterable if condition == True]\n",
    "print(newlist9)  # [\"apple\", \"banana\", \"mango\"]\n",
    "---------------------------------------\n",
    "newlist10 = [x.upper() for x in fruits]\n",
    "print(newlist10)"
   ]
  },
  {
   "cell_type": "code",
   "execution_count": null,
   "id": "312548a7-d523-435c-9aef-cb88f028f0a6",
   "metadata": {},
   "outputs": [],
   "source": [
    "# sort list \n",
    "\n",
    "----------------------\n",
    "# sort based on how close the number is to 50:\n",
    "def myfunc(n):\n",
    "  return abs(n - 50)\n",
    "\n",
    "thislist = [100, 50, 65, 82, 23]\n",
    "thislist.sort(key = myfunc)  # can be build in function  ---->  thislist.sort(key = str.lower)\n",
    "print(thislist)\n",
    "------------------------\n",
    "thislist11 = [100, 50, 65, 82, 23]\n",
    "thislist11.sort(reverse = True)\n",
    "print(thislist11)\n",
    "----------------------------\n",
    "thislist12 = [\"banana\", \"Orange\", \"Kiwi\", \"cherry\"]\n",
    "thislist12.reverse()\n",
    "print(thislist12)"
   ]
  },
  {
   "cell_type": "code",
   "execution_count": null,
   "id": "c6fb18c2-925d-4a20-986e-ad7e35e6a445",
   "metadata": {},
   "outputs": [],
   "source": [
    "# Copy a List\n",
    "--------------------------------------------\n",
    "thislist13 = [\"apple\", \"banana\", \"cherry\"]  \n",
    "mylist = thislist13.copy()\n",
    "print(mylist)\n",
    "----------------------------------------------\n",
    "mylist = list(thislist)\n",
    "print(mylist)\n",
    "----------------------------------------------\n",
    "mylist = thislist[:]\n",
    "print(mylist)"
   ]
  },
  {
   "cell_type": "markdown",
   "id": "60f551a5-2144-4402-bf30-53b4d52bd502",
   "metadata": {},
   "source": [
    "# Tuple"
   ]
  },
  {
   "cell_type": "code",
   "execution_count": null,
   "id": "e6c69c14-e7c0-4e57-acf0-ba8a2efd7bfb",
   "metadata": {},
   "outputs": [],
   "source": [
    "thistuple = (\"apple\", \"banana\", \"cherry\", \"apple\", \"cherry\") # allow duplicate\n",
    "# Note to create a tuple with only one item, you have to add a comma after the item,\n",
    "thistuple = (\"apple\",) # tuple\n",
    "thisnottuple = (\"apple\") # string\n",
    "-------------------------------------------\n",
    "# update Tuple --> Convert the tuple into a list to be able to change it:\n",
    "x = (\"apple\", \"banana\", \"cherry\")\n",
    "y = list(x)\n",
    "y[1] = \"kiwi\"\n",
    "x = tuple(y)\n",
    "print(x)\n",
    "-----------------------------------------\n",
    "fruits = (\"apple\", \"banana\", \"cherry\", \"strawberry\", \"raspberry\")\n",
    "(green, yellow, *red) = fruits\n",
    "print(red) # ['cherry', 'strawberry', 'raspberry']\n"
   ]
  },
  {
   "cell_type": "markdown",
   "id": "689791a5-abb9-480c-a8f5-bf729bc1a26d",
   "metadata": {},
   "source": [
    "## Set"
   ]
  },
  {
   "cell_type": "code",
   "execution_count": null,
   "id": "796e1c34-ba8b-4eba-a8eb-0107df5f434b",
   "metadata": {},
   "outputs": [],
   "source": [
    "# Unordered\n",
    "# Set items can appear in a different order every time you use them\n",
    "# Duplicates Not Allowed\n",
    "# Once a set is created, you cannot change its items, but you can add new items."
   ]
  },
  {
   "cell_type": "code",
   "execution_count": null,
   "id": "75d499f7-b362-4fc2-970d-883406b43f13",
   "metadata": {},
   "outputs": [],
   "source": [
    "# Duplicate values will be ignored:\n",
    "thisset1 = {\"apple\", \"banana\", \"cherry\", \"apple\"} \n",
    "print(thisset1) # {\"banana\", \"cherry\", \"apple\"}\n",
    "-------------------------------\n",
    "# Note False and 0 is considered the same value:\n",
    "#      True and 1 is considered the same value:\n",
    "thisset2 = {\"apple\", \"banana\", \"cherry\", False, True, 0}\n",
    "print(thisset2) # {False, True, 'cherry', 'apple', 'banana'} 0 is ignored"
   ]
  },
  {
   "cell_type": "code",
   "execution_count": null,
   "id": "cb406809-e186-44f9-8ebd-97275cfb3287",
   "metadata": {},
   "outputs": [],
   "source": [
    "# Add Item \n",
    "thisset3 = {\"apple\", \"banana\", \"cherry\"}\n",
    "thisset3.add(\"orange\") # using add method to add only one item\n",
    "-------------------------------------\n",
    "thisset4 = {\"apple\", \"banana\", \"cherry\"}\n",
    "mylist = [\"kiwi\", \"orange\"]\n",
    "thisset4.update(mylist4) # update method --> add items from another collections"
   ]
  },
  {
   "cell_type": "code",
   "execution_count": null,
   "id": "d89980fb-2848-4611-82b0-53eaba0a0255",
   "metadata": {},
   "outputs": [],
   "source": [
    "# Remove Item\n",
    "thisset5 = {\"apple\", \"banana\", \"cherry\"}\n",
    "thisset5.remove(\"banana\") # If the item to remove does not exist, remove() will raise an error.\n",
    "thisset5.discard(\"banana\") # If the item to remove does not exist, discard() will NOT raise an error.\n",
    "x = thisset5.pop() # Remove a random item --> Unordered\n",
    "thisset5.clear() #clear method empties the set: تفريغ من محتواها\n",
    "del thisset5 # delete the set completely:"
   ]
  },
  {
   "cell_type": "code",
   "execution_count": null,
   "id": "a30acadb-f9b6-4c9d-9a44-705571c51a7c",
   "metadata": {},
   "outputs": [],
   "source": [
    "# Join Sets\n",
    "set1 = {\"a\", \"b\", \"c\"}\n",
    "set2 = {1, 2, 3}\n",
    "set3 = set1.union(set2) # union() method\n",
    "set4 = set1 | set2  # | operator instead of the union() method\n",
    "print(set3)\n",
    "print(set4)\n",
    "# Note: The  | operator only allows you to join sets with sets, and not with other data types like you can with the  union() method.\n",
    "------------------------------------------------------\n",
    "set1 = {\"a\", \"b\" , \"c\"}\n",
    "set2 = {1, 2, 3}\n",
    "set1.update(set2) # insert update() method\n",
    "print(set1) # {3, 'c', 'b', 'a', 2, 1}\n",
    "# Note: Both union() and update() will exclude any duplicate items.\n",
    "-------------------------------------------------------\n",
    "# items that are present in both sets.\n",
    "set1 = {\"apple\", \"banana\", \"cherry\"}\n",
    "set2 = {\"google\", \"microsoft\", \"apple\"}\n",
    "set3 = set1.intersection(set2) # using intersection method\n",
    "set4 = set1 & set2 #  & operator instead of the intersection() method\n",
    "print(set3)  # {'apple'}\n",
    "print(set4) # {'apple'}\n",
    "-----------------------\n",
    "set8 = {\"apple\", \"banana\", \"cherry\"}\n",
    "set9 = {\"google\", \"microsoft\", \"apple\"}\n",
    "set8.intersection_update(set9)\n",
    "# intersection_update() method will also keep ONLY the duplicates, but it will change the original set instead of returning a new set.\n",
    "print(set8)\n",
    "----------------------------------------------------\n",
    "set11 = {\"apple\", \"banana\", \"cherry\"}\n",
    "set12 = {\"google\", \"microsoft\", \"apple\"}\n",
    "set13 = set1.difference(set2) # difference --> the items from the first set that are not present in the other set.\n",
    "set14 = set11 - set12 # - operator equal to difference method\n",
    "print(set13) # {'banana', 'cherry'}\n",
    "print(set14) # {'banana', 'cherry'}\n",
    "----------------------------------------------------\n",
    "set11.difference_update(set12) # difference_update() method to keep the items that are not present in both sets\n",
    "print(set11) # {'banana', 'cherry'}\n",
    "-----------------------------------------------------\n",
    "set15 = set11.symmetric_difference(set12) # symmetric_difference() method will keep only the elements that are NOT present in both \n",
    "set16 = set11 ^ set12 # ^ operator instead of the symmetric_difference() method\n",
    "print(set15) # {'google', 'banana', 'microsoft', 'cherry'}\n",
    "print(set16) # {'google', 'banana', 'microsoft', 'cherry'}\n",
    "# NOTE ^ operator only allows you to join sets with sets, and not with other data types like you can with the symmetric_difference() method.\n",
    "----------------------------------------------------\n",
    "set11.symmetric_difference_update(set12) # symmetric_difference_update() method to keep the items that are not present in both sets:\n",
    "print(set11) # {'google', 'banana', 'microsoft', 'cherry'}"
   ]
  },
  {
   "cell_type": "markdown",
   "id": "4b885464-f79f-4fa4-ae1c-888ba2c97f6d",
   "metadata": {},
   "source": [
    "## Dictionary"
   ]
  },
  {
   "cell_type": "code",
   "execution_count": null,
   "id": "64f9b8db-1229-4563-b2cc-6d978f3b5115",
   "metadata": {},
   "outputs": [],
   "source": [
    "thisdict = {\n",
    "  \"brand\": \"Ford\",\n",
    "  \"model\": \"Mustang\",\n",
    "  \"year\": 1964\n",
    "}\n",
    "x = thisdict[\"model\"] # Mustang\n",
    "y = thisdict.get(\"model\") # Mustang\n",
    "z = thisdict.keys()   # dict_keys(['brand', 'model', 'year'])\n",
    "v = thisdict.values() # dict_values(['Ford', 'Mustang', 1964])\n",
    "i = thisdict.items() # dict_items([('brand', 'Ford'), ('model', 'Mustang'), ('year', 1964)])\n",
    "p = thisdict.pop(\"model\") # {'brand': 'Ford', 'year': 1964}\n",
    "pi = thisdict.popitem() # {'brand': 'Ford', 'model': 'Mustang'}\n",
    "-----------------------------------------\n",
    "# Add and update\n",
    "car = {\n",
    "\"brand\": \"Ford\",\n",
    "\"model\": \"Mustang\",\n",
    "\"year\": 1964\n",
    "}\n",
    "car[\"color\"] = \"white\" # Add a new item to the original dictionarycar[\"year\"] = 2020 # \n",
    "car[\"year\"] = 2020 # Make a change in the original dictionary\n",
    "car.update({\"year\": 2020}) # update() method will update the dictionary with the items from the given argument.\n",
    "------------------------------------------\n",
    "# remove\n",
    "thisdict = {\n",
    "  \"brand\": \"Ford\",\n",
    "  \"model\": \"Mustang\",\n",
    "  \"year\": 1964\n",
    "}\n",
    "thisdict.pop(\"model\") # remove item with the specified key name\n",
    "thisdict.popitem() #  removes the last inserted item -->  {'brand': 'Ford', 'model': 'Mustang'}\n",
    "\n",
    "del thisdict[\"model\"] # removes the item with the specified key name\n",
    "del thisdict # delete the dictionary completely\n",
    "\n",
    "thisdict.clear() #  empties the dictionary:\n",
    "------------------------------------------\n",
    "# print\n",
    "\n",
    "for x, y in thisdict.items(): # Loop through both keys and values.\n",
    "  print(x, y)\n",
    "\n",
    "----------------------------------------\n",
    "# copy \n",
    "\n",
    "thisdict99 = {\n",
    "  \"brand\": \"Ford\",\n",
    "  \"model\": \"Mustang\",\n",
    "  \"year\": 1964\n",
    "}\n",
    "mydict1 = thisdict99.copy() # copy method\n",
    "mydict2 = dict(thisdict) # dict method\n",
    "print(mydict)\n"
   ]
  },
  {
   "cell_type": "markdown",
   "id": "d608f026-8edb-4e07-be9c-6e4102796c65",
   "metadata": {},
   "source": [
    "## IF"
   ]
  },
  {
   "cell_type": "code",
   "execution_count": null,
   "id": "00b764b9-b1da-4df0-8b5e-043ffc26cecf",
   "metadata": {},
   "outputs": [],
   "source": [
    "if a > b: print(\"a is greater than b\")   # One line if statement\n",
    "print(\"A\") if a > b else print(\"B\")  # One line if else statement  \n",
    "# --> Ternary Operators, or Conditional Expressions.\n",
    "print(\"A\") if a > b else print(\"=\") if a == b else print(\"B\")\n",
    "------------------------------------------------------\n",
    "a = 33\n",
    "b = 200\n",
    "\n",
    "if b > a:  \n",
    "  pass   # if statement with no content, put in the pass statement avoid getting an error"
   ]
  },
  {
   "cell_type": "markdown",
   "id": "a2d2ecec-bcd1-4bd3-a9d9-96cbee01d29b",
   "metadata": {},
   "source": [
    "## while Loop"
   ]
  },
  {
   "cell_type": "code",
   "execution_count": null,
   "id": "419d2af4-2b06-4d44-9dea-cf3ea5209f20",
   "metadata": {},
   "outputs": [],
   "source": [
    "i = 1\n",
    "while i < 6:  \n",
    "  print(i)\n",
    "  if i == 3:\n",
    "    break    # break statement we can stop the loop even if the while condition is true\n",
    "  i += 1     # 1 2 3\n",
    "-------------------------------------\n",
    "Z = 0\n",
    "while Z < 6:\n",
    "  Z += 1\n",
    "  if Z == 3:\n",
    "    continue  # continue statement we can stop the current iteration, and continue with the next: \n",
    "  print(Z)    # 1 2 4 5 6\n",
    "------------------------------------\n",
    "X = 1\n",
    "while i < 6:\n",
    "  print(i)\n",
    "  X += 1\n",
    "else:   # can run a block of code once when the condition no longer is true\n",
    "  print(\"i is no longer less than 6\")"
   ]
  },
  {
   "cell_type": "markdown",
   "id": "79b113e4-2130-47b5-b1b9-6491afb06e59",
   "metadata": {},
   "source": [
    "## FOR"
   ]
  },
  {
   "cell_type": "code",
   "execution_count": null,
   "id": "31414ac6-f72c-4c2f-b437-3fbbccf3e44b",
   "metadata": {},
   "outputs": [],
   "source": [
    "for x in range(2, 30, 3): # start from 2 to 29 increment by 3 \n",
    "  print(x)                # 2 5 8 ...... 29\n",
    "-----------------------------\n",
    "for x in range(6):\n",
    "  print(x)\n",
    "else:                   # else keyword in a for loop specifies a block of code to be executed when the loop is finished\n",
    "  print(\"Finally finished!\")\n",
    "-----------------------------\n",
    "for x in range(6):\n",
    "  if x == 3: break     # The else block will NOT be executed if the loop is stopped by a break statement.\n",
    "  print(x)\n",
    "else:\n",
    "  print(\"Finally finished!\")\n",
    "-------------------------------\n",
    "# Nested Loops\n",
    "adj = [\"red\", \"big\", \"tasty\"]\n",
    "fruits = [\"apple\", \"banana\", \"cherry\"]\n",
    "\n",
    "for x in adj:\n",
    "  for y in fruits:\n",
    "    print(x, y)            # red apple - red banana - red cherry -  big apple - ................ tasty cherry\n",
    "-------------------------------\n"
   ]
  },
  {
   "cell_type": "markdown",
   "id": "1bdc522a-38dd-48ec-9f3a-811d98da2c1a",
   "metadata": {},
   "source": [
    "## Function"
   ]
  },
  {
   "cell_type": "code",
   "execution_count": null,
   "id": "d604b946-e4ff-4889-98d3-868015f85de8",
   "metadata": {},
   "outputs": [],
   "source": [
    "def my_function(*kids):  # If the number of arguments is unknown, add a * before the parameter name\n",
    "  print(\"The youngest child is \" + kids[2])\n",
    "\n",
    "my_function(\"Emil\", \"Tobias\", \"Linus\")  # Linus\n",
    "-------------------------------------------------\n",
    "def my_function(**kid):  # If the number of keyword arguments is unknown, add a double ** before the parameter name:\n",
    "  print(\"His last name is \" + kid[\"lname\"])\n",
    "\n",
    "my_function(fname = \"Tobias\", lname = \"Refsnes\")\n",
    "\n",
    "--------------------------------------------------\n",
    "def my_function(country = \"Norway\"):  # Default Parameter Value\n",
    "  print(\"I am from \" + country) \n",
    "\n",
    "my_function()\n",
    "---------------------------------------------------\n",
    "def my_function(x, /): # To specify that a function can have only positional arguments, add , / after the arguments:\n",
    "  print(x)     \n",
    "\n",
    "my_function(3)\n",
    "my_function(x = 3) # error positional-only arguments passed\n",
    "-------------------------------------------------------\n",
    "def my_function(*, x): # To specify that a function can have only keyword arguments, add *, before the arguments:\n",
    "  print(x)\n",
    "\n",
    "my_function(x = 3)\n",
    "my_function(3) # error takes 0 positional arguments"
   ]
  },
  {
   "cell_type": "markdown",
   "id": "63dfd400-706f-4522-ab67-0fbd04ebfc01",
   "metadata": {},
   "source": [
    "## Lambda"
   ]
  },
  {
   "cell_type": "code",
   "execution_count": null,
   "id": "537d718a-195a-48ff-9f31-4dee23268539",
   "metadata": {},
   "outputs": [],
   "source": [
    "# A lambda function is a small anonymous function.\n",
    "\n",
    "x = lambda a, b : a * b  # lambda arguments : expression\n",
    "print(x(5, 6))\n",
    "------------------------------------------------\n",
    "def myfunc(n):\n",
    "  return lambda a : a * n\n",
    "\n",
    "mydoubler = myfunc(2)\n",
    "mytripler = myfunc(3)\n",
    "\n",
    "print(mydoubler(11)) # use the same function definition to make both functions, in the same program\n",
    "print(mytripler(11))"
   ]
  }
 ],
 "metadata": {
  "kernelspec": {
   "display_name": "Python 3 (ipykernel)",
   "language": "python",
   "name": "python3"
  },
  "language_info": {
   "codemirror_mode": {
    "name": "ipython",
    "version": 3
   },
   "file_extension": ".py",
   "mimetype": "text/x-python",
   "name": "python",
   "nbconvert_exporter": "python",
   "pygments_lexer": "ipython3",
   "version": "3.9.1"
  }
 },
 "nbformat": 4,
 "nbformat_minor": 5
}
